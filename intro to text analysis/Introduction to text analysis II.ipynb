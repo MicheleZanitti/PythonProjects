{
 "cells": [
  {
   "cell_type": "markdown",
   "metadata": {},
   "source": [
    "# Introduction to text analysis II"
   ]
  },
  {
   "cell_type": "markdown",
   "metadata": {},
   "source": [
    "**introducing utilities for text analysis**"
   ]
  },
  {
   "cell_type": "markdown",
   "metadata": {},
   "source": [
    "Getting the punctuation list"
   ]
  },
  {
   "cell_type": "code",
   "execution_count": 1,
   "metadata": {},
   "outputs": [
    {
     "name": "stdout",
     "output_type": "stream",
     "text": [
      "!\"#$%&'()*+,-./:;<=>?@[\\]^_`{|}~\n"
     ]
    }
   ],
   "source": [
    "import string\n",
    "\n",
    "punctuation = string.punctuation\n",
    "\n",
    "print(punctuation)"
   ]
  },
  {
   "cell_type": "markdown",
   "metadata": {},
   "source": [
    "### tokenization ###\n",
    "\n",
    "A *token* is a basic unity of a sentence or of a text. Usually it coincides with a word."
   ]
  },
  {
   "cell_type": "markdown",
   "metadata": {},
   "source": [
    "**split a string**"
   ]
  },
  {
   "cell_type": "code",
   "execution_count": 2,
   "metadata": {},
   "outputs": [
    {
     "name": "stdout",
     "output_type": "stream",
     "text": [
      "['this', 'is', 'a', 'string']\n"
     ]
    }
   ],
   "source": [
    "a = \"this is a string \"\n",
    "tokens = a.split() ## split !\n",
    "print(tokens)"
   ]
  },
  {
   "cell_type": "markdown",
   "metadata": {},
   "source": [
    "**split()** is the most useful function for a data scientist ! (no jokes !))"
   ]
  },
  {
   "cell_type": "markdown",
   "metadata": {},
   "source": [
    "we can set a custom delimiter"
   ]
  },
  {
   "cell_type": "code",
   "execution_count": 3,
   "metadata": {},
   "outputs": [
    {
     "name": "stdout",
     "output_type": "stream",
     "text": [
      "['this', 'is a string', ' with a non common delimiter', '', '']\n"
     ]
    }
   ],
   "source": [
    "a = \"this@is a string@ with a non common delimiter@@\"\n",
    "tokens_with_delimiter = a.split(\"@\")\n",
    "print(tokens_with_delimiter)"
   ]
  },
  {
   "cell_type": "markdown",
   "metadata": {},
   "source": [
    "# File formats for datascience #"
   ]
  },
  {
   "cell_type": "markdown",
   "metadata": {},
   "source": [
    "**Json file format**"
   ]
  },
  {
   "cell_type": "raw",
   "metadata": {},
   "source": [
    "The JSON (Javascript object notation) is the most one of the most format. It is a human readable file format (plain text not binary) \n",
    "\n",
    "\n",
    "{\"menu\": {\n",
    "  \"id\": \"file\",\n",
    "  \"value\": \"File\",\n",
    "  \"popup\": {\n",
    "    \"menuitem\": [\n",
    "      {\"value\": \"New\", \"onclick\": \"CreateNewDoc()\"},\n",
    "      {\"value\": \"Open\", \"onclick\": \"OpenDoc()\"},\n",
    "      {\"value\": \"Close\", \"onclick\": \"CloseDoc()\"}\n",
    "    ]\n",
    "  }\n",
    "}}\n",
    "\n",
    "it is similar to a dictionary in python and is human readable. It uses double quote and colon to separate the fields. It is of paramount importance to understarnd and use. "
   ]
  },
  {
   "cell_type": "markdown",
   "metadata": {},
   "source": [
    "**CSV: comma separated value**"
   ]
  },
  {
   "cell_type": "markdown",
   "metadata": {},
   "source": [
    "It is the simplest way (yet powerful) to organize data in columns similarly to a spreadsheet. Can be managed with spreadsheet softwares: libreoffice, excel.\n",
    "\n",
    "* The character that divides the fields is called \"separator\" or \"delimiter\"\n",
    "* The character that encloses the text is the \"quoting char\"\n",
    "* The column name is indicated as \"header\"\n",
    "\n",
    "CSV must not have any graphical element, any line, any border !\n",
    "\n"
   ]
  },
  {
   "cell_type": "raw",
   "metadata": {},
   "source": [
    "####\n",
    "#### a simple example ####\n",
    "####\n",
    "\n",
    "Year,Make,Model,Description,Price\n",
    "1997,Ford,E350,\"ac, abs, moon\",3000.00\n",
    "1999,Chevy,\"Venture \"\"Extended Edition\"\"\",\"\",4900.00\n",
    "1999,Chevy,\"Venture \"\"Extended Edition, Very Large\"\"\",,5000.00\n",
    "1996,Jeep,Grand Cherokee,\"MUST SELL!\n",
    "air, moon roof, loaded\",4799.00"
   ]
  },
  {
   "cell_type": "markdown",
   "metadata": {},
   "source": [
    "** XML format file **"
   ]
  },
  {
   "cell_type": "raw",
   "metadata": {},
   "source": [
    "It is a format of the \"markup family\" that includes the html language . It is heavier and partly difficult to read.\n",
    "\n",
    "<menu id=\"file\" value=\"File\">\n",
    "  <popup>\n",
    "    <menuitem value=\"New\" onclick=\"CreateNewDoc()\" />\n",
    "    <menuitem value=\"Open\" onclick=\"OpenDoc()\" />\n",
    "    <menuitem value=\"Close\" onclick=\"CloseDoc()\" />\n",
    "  </popup>\n",
    "  <text> This is a value </text>\n",
    "</menu>\n",
    "\n",
    "popup, menuitem, menu are \"tags\"\n",
    "value, onclick are \"attributes\"\n",
    "inside a tag there are the \"values\" (in this case the string \"This is a value\""
   ]
  },
  {
   "cell_type": "markdown",
   "metadata": {},
   "source": [
    "### managing json, csv and xml ###"
   ]
  },
  {
   "cell_type": "code",
   "execution_count": 4,
   "metadata": {},
   "outputs": [],
   "source": [
    "import json\n",
    "\n",
    "js = \"\"\"\n",
    "{\"menu\": {\n",
    "  \"id\": \"file\",\n",
    "  \"value\": \"File\",\n",
    "  \"popup\": {\n",
    "    \"menuitem\": [\n",
    "      {\"value\": \"New\", \"onclick\": \"CreateNewDoc()\"},\n",
    "      {\"value\": \"Open\", \"onclick\": \"OpenDoc()\"},\n",
    "      {\"value\": \"Close\", \"onclick\": \"CloseDoc()\"}\n",
    "    ]\n",
    "  }\n",
    "}}\n",
    "\"\"\"\n",
    "\n"
   ]
  },
  {
   "cell_type": "markdown",
   "metadata": {},
   "source": [
    "**transform a json string into a dictionary**"
   ]
  },
  {
   "cell_type": "code",
   "execution_count": 5,
   "metadata": {},
   "outputs": [
    {
     "name": "stdout",
     "output_type": "stream",
     "text": [
      "file\n",
      "New\n",
      "Open\n",
      "Close\n"
     ]
    }
   ],
   "source": [
    "\n",
    "load = json.loads(js) ## load string\n",
    "\n",
    "## accessing internal properties: \n",
    "\n",
    "print(load['menu']['id'])\n",
    "\n",
    "## iterating among internal nested properties\n",
    "for menuitem in load['menu']['popup']['menuitem']:\n",
    "    print(menuitem['value'])"
   ]
  },
  {
   "cell_type": "markdown",
   "metadata": {},
   "source": [
    "**transform a dictionary into a json string**"
   ]
  },
  {
   "cell_type": "code",
   "execution_count": 6,
   "metadata": {},
   "outputs": [
    {
     "name": "stdout",
     "output_type": "stream",
     "text": [
      "{\"a\": {\"b\": [1, 2, 3]}, \"c\": 1}\n"
     ]
    }
   ],
   "source": [
    "dic = {'a' : {'b' : [1,2,3]}, 'c' : 1}\n",
    "json_string = json.dumps(dic)\n",
    "\n",
    "## please notice the different encoding \"double quoting\"\n",
    "print(json_string)"
   ]
  },
  {
   "cell_type": "markdown",
   "metadata": {},
   "source": [
    "online read of a csv"
   ]
  },
  {
   "cell_type": "code",
   "execution_count": 9,
   "metadata": {},
   "outputs": [],
   "source": [
    "import requests\n",
    "import pandas as pd\n",
    "\n",
    "csvdown = \"https://datahub.io/core/global-temp/r/monthly.csv\"\n",
    "\n",
    "req = requests.get(csvdown)\n",
    "\n",
    "# save the file:\n",
    "\n",
    "csvout = \"monthly.csv\"\n",
    "out = open(csvout,\"w\")\n",
    "out.write(req.text)\n",
    "out.close()\n",
    "\n",
    "\n",
    "c = pd.read_csv(csvout)"
   ]
  },
  {
   "cell_type": "code",
   "execution_count": 10,
   "metadata": {},
   "outputs": [
    {
     "data": {
      "text/html": [
       "<div>\n",
       "<style scoped>\n",
       "    .dataframe tbody tr th:only-of-type {\n",
       "        vertical-align: middle;\n",
       "    }\n",
       "\n",
       "    .dataframe tbody tr th {\n",
       "        vertical-align: top;\n",
       "    }\n",
       "\n",
       "    .dataframe thead th {\n",
       "        text-align: right;\n",
       "    }\n",
       "</style>\n",
       "<table border=\"1\" class=\"dataframe\">\n",
       "  <thead>\n",
       "    <tr style=\"text-align: right;\">\n",
       "      <th></th>\n",
       "      <th>Source</th>\n",
       "      <th>Date</th>\n",
       "      <th>Mean</th>\n",
       "    </tr>\n",
       "  </thead>\n",
       "  <tbody>\n",
       "    <tr>\n",
       "      <th>0</th>\n",
       "      <td>GCAG</td>\n",
       "      <td>2016-12-06</td>\n",
       "      <td>0.7895</td>\n",
       "    </tr>\n",
       "    <tr>\n",
       "      <th>1</th>\n",
       "      <td>GISTEMP</td>\n",
       "      <td>2016-12-06</td>\n",
       "      <td>0.8100</td>\n",
       "    </tr>\n",
       "    <tr>\n",
       "      <th>2</th>\n",
       "      <td>GCAG</td>\n",
       "      <td>2016-11-06</td>\n",
       "      <td>0.7504</td>\n",
       "    </tr>\n",
       "    <tr>\n",
       "      <th>3</th>\n",
       "      <td>GISTEMP</td>\n",
       "      <td>2016-11-06</td>\n",
       "      <td>0.9300</td>\n",
       "    </tr>\n",
       "    <tr>\n",
       "      <th>4</th>\n",
       "      <td>GCAG</td>\n",
       "      <td>2016-10-06</td>\n",
       "      <td>0.7292</td>\n",
       "    </tr>\n",
       "    <tr>\n",
       "      <th>5</th>\n",
       "      <td>GISTEMP</td>\n",
       "      <td>2016-10-06</td>\n",
       "      <td>0.8900</td>\n",
       "    </tr>\n",
       "    <tr>\n",
       "      <th>6</th>\n",
       "      <td>GCAG</td>\n",
       "      <td>2016-09-06</td>\n",
       "      <td>0.8767</td>\n",
       "    </tr>\n",
       "    <tr>\n",
       "      <th>7</th>\n",
       "      <td>GISTEMP</td>\n",
       "      <td>2016-09-06</td>\n",
       "      <td>0.8700</td>\n",
       "    </tr>\n",
       "    <tr>\n",
       "      <th>8</th>\n",
       "      <td>GCAG</td>\n",
       "      <td>2016-08-06</td>\n",
       "      <td>0.8998</td>\n",
       "    </tr>\n",
       "    <tr>\n",
       "      <th>9</th>\n",
       "      <td>GISTEMP</td>\n",
       "      <td>2016-08-06</td>\n",
       "      <td>0.9800</td>\n",
       "    </tr>\n",
       "  </tbody>\n",
       "</table>\n",
       "</div>"
      ],
      "text/plain": [
       "    Source        Date    Mean\n",
       "0     GCAG  2016-12-06  0.7895\n",
       "1  GISTEMP  2016-12-06  0.8100\n",
       "2     GCAG  2016-11-06  0.7504\n",
       "3  GISTEMP  2016-11-06  0.9300\n",
       "4     GCAG  2016-10-06  0.7292\n",
       "5  GISTEMP  2016-10-06  0.8900\n",
       "6     GCAG  2016-09-06  0.8767\n",
       "7  GISTEMP  2016-09-06  0.8700\n",
       "8     GCAG  2016-08-06  0.8998\n",
       "9  GISTEMP  2016-08-06  0.9800"
      ]
     },
     "execution_count": 10,
     "metadata": {},
     "output_type": "execute_result"
    }
   ],
   "source": [
    "c.head(10)"
   ]
  },
  {
   "cell_type": "code",
   "execution_count": 11,
   "metadata": {},
   "outputs": [
    {
     "data": {
      "text/html": [
       "<div>\n",
       "<style scoped>\n",
       "    .dataframe tbody tr th:only-of-type {\n",
       "        vertical-align: middle;\n",
       "    }\n",
       "\n",
       "    .dataframe tbody tr th {\n",
       "        vertical-align: top;\n",
       "    }\n",
       "\n",
       "    .dataframe thead th {\n",
       "        text-align: right;\n",
       "    }\n",
       "</style>\n",
       "<table border=\"1\" class=\"dataframe\">\n",
       "  <thead>\n",
       "    <tr style=\"text-align: right;\">\n",
       "      <th></th>\n",
       "      <th>Source</th>\n",
       "      <th>Date</th>\n",
       "      <th>Mean</th>\n",
       "    </tr>\n",
       "  </thead>\n",
       "  <tbody>\n",
       "    <tr>\n",
       "      <th>18</th>\n",
       "      <td>GCAG</td>\n",
       "      <td>2016-03-06</td>\n",
       "      <td>1.2245</td>\n",
       "    </tr>\n",
       "    <tr>\n",
       "      <th>20</th>\n",
       "      <td>GCAG</td>\n",
       "      <td>2016-02-06</td>\n",
       "      <td>1.1921</td>\n",
       "    </tr>\n",
       "    <tr>\n",
       "      <th>24</th>\n",
       "      <td>GCAG</td>\n",
       "      <td>2015-12-06</td>\n",
       "      <td>1.1219</td>\n",
       "    </tr>\n",
       "    <tr>\n",
       "      <th>16</th>\n",
       "      <td>GCAG</td>\n",
       "      <td>2016-04-06</td>\n",
       "      <td>1.0733</td>\n",
       "    </tr>\n",
       "    <tr>\n",
       "      <th>22</th>\n",
       "      <td>GCAG</td>\n",
       "      <td>2016-01-06</td>\n",
       "      <td>1.0569</td>\n",
       "    </tr>\n",
       "  </tbody>\n",
       "</table>\n",
       "</div>"
      ],
      "text/plain": [
       "   Source        Date    Mean\n",
       "18   GCAG  2016-03-06  1.2245\n",
       "20   GCAG  2016-02-06  1.1921\n",
       "24   GCAG  2015-12-06  1.1219\n",
       "16   GCAG  2016-04-06  1.0733\n",
       "22   GCAG  2016-01-06  1.0569"
      ]
     },
     "execution_count": 11,
     "metadata": {},
     "output_type": "execute_result"
    }
   ],
   "source": [
    "c[c['Source'] == 'GCAG'].sort_values(by = 'Mean',ascending = False).head()"
   ]
  },
  {
   "cell_type": "code",
   "execution_count": 12,
   "metadata": {},
   "outputs": [
    {
     "name": "stdout",
     "output_type": "stream",
     "text": [
      "Populating the interactive namespace from numpy and matplotlib\n"
     ]
    },
    {
     "name": "stderr",
     "output_type": "stream",
     "text": [
      "/usr/local/lib/python3.6/dist-packages/IPython/core/magics/pylab.py:160: UserWarning: pylab import has clobbered these variables: ['load']\n",
      "`%matplotlib` prevents importing * from pylab and numpy\n",
      "  \"\\n`%matplotlib` prevents importing * from pylab and numpy\"\n"
     ]
    },
    {
     "data": {
      "text/plain": [
       "<matplotlib.axes._subplots.AxesSubplot at 0x7feb16ee8f98>"
      ]
     },
     "execution_count": 12,
     "metadata": {},
     "output_type": "execute_result"
    },
    {
     "data": {
      "image/png": "[encoded data removed]",
      "text/plain": [
       "<Figure size 864x720 with 1 Axes>"
      ]
     },
     "metadata": {
      "needs_background": "light"
     },
     "output_type": "display_data"
    }
   ],
   "source": [
    "%pylab inline\n",
    "df = c[c['Source'] == 'GCAG']\n",
    "df.plot(figsize=(12,10))"
   ]
  },
  {
   "cell_type": "markdown",
   "metadata": {},
   "source": [
    "### working csv with csv module and dictreader ###"
   ]
  },
  {
   "cell_type": "markdown",
   "metadata": {},
   "source": [
    "DictReader from the module csv is able to understand the name of the columns (if available) and to map the columns to the name"
   ]
  },
  {
   "cell_type": "code",
   "execution_count": 15,
   "metadata": {},
   "outputs": [],
   "source": [
    "import csv"
   ]
  },
  {
   "cell_type": "code",
   "execution_count": 16,
   "metadata": {},
   "outputs": [
    {
     "name": "stdout",
     "output_type": "stream",
     "text": [
      "GCAG 2016-12-06 0.7895\n",
      "<class 'str'>\n"
     ]
    }
   ],
   "source": [
    "with open('monthly.csv') as csvfile:\n",
    "    reader = csv.DictReader(csvfile)\n",
    "    for row in reader:\n",
    "        print(row['Source'], row['Date'], row['Mean'])\n",
    "        print(type(row['Mean'])) ## ! it is a string not a float !\n",
    "        break\n",
    "    "
   ]
  },
  {
   "cell_type": "markdown",
   "metadata": {},
   "source": [
    "### Exercises: ###\n",
    "\n",
    "* go deep in the csv module to treat the case of a malformed csv\n",
    "- steps:\n",
    "    1) create a malformed csv\n",
    "    2) try to read it with pandas\n",
    "    3) open id with dictreader or csv\n",
    "    "
   ]
  },
  {
   "cell_type": "code",
   "execution_count": null,
   "metadata": {},
   "outputs": [],
   "source": []
  }
 ],
 "metadata": {
  "kernelspec": {
   "display_name": "Python 3",
   "language": "python",
   "name": "python3"
  },
  "language_info": {
   "codemirror_mode": {
    "name": "ipython",
    "version": 3
   },
   "file_extension": ".py",
   "mimetype": "text/x-python",
   "name": "python",
   "nbconvert_exporter": "python",
   "pygments_lexer": "ipython3",
   "version": "3.6.8"
  }
 },
 "nbformat": 4,
 "nbformat_minor": 4
}
