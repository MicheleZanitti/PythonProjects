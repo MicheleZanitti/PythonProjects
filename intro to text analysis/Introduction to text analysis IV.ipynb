{
 "cells": [
  {
   "cell_type": "markdown",
   "metadata": {},
   "source": [
    "## Introduction to text analysis IV ##"
   ]
  },
  {
   "cell_type": "markdown",
   "metadata": {},
   "source": [
    "The stopwords are the most common *context free* words of a language. For instance articles, prepositions, adverbs, but also common names are stopwords as they do not carry any special information"
   ]
  },
  {
   "cell_type": "code",
   "execution_count": 1,
   "metadata": {},
   "outputs": [],
   "source": [
    "import nltk\n",
    "import codecs"
   ]
  },
  {
   "cell_type": "code",
   "execution_count": 2,
   "metadata": {},
   "outputs": [],
   "source": [
    "from nltk.corpus import stopwords\n",
    "stop = set(stopwords.words('english'))"
   ]
  },
  {
   "cell_type": "code",
   "execution_count": 3,
   "metadata": {},
   "outputs": [
    {
     "name": "stdout",
     "output_type": "stream",
     "text": [
      "[\"don't\", 'did', 'my', \"shouldn't\", 'while', 'from', 'its', 'who', 'mightn', 'during', 'ourselves', 'shouldn', 'have', 'we', 'you', 'ain', 'shan', 'their', 'each', 'aren', 'will', 'out', 'ma', 'over', 'both', 'again', 'too', 'wouldn', \"weren't\", 'same', 'needn', 'an', 'o', 're', 'off', 'not', 'them', 'yours', 'been', 'above', 'at', 'under', 'll', \"isn't\", \"couldn't\", 'these', 'weren', \"you're\", 'that', \"that'll\", 'between', 'having', 'has', 'there', \"she's\", \"it's\", 've', 'before', 'his', 'which', \"shan't\", \"wouldn't\", 'so', 'most', 'where', 'to', 'once', 'couldn', 'but', 'about', 'himself', \"mightn't\", 'in', 'now', 'doesn', 'further', 'through', 'how', \"hasn't\", 'with', 'as', 'against', 'herself', 'me', 'than', 'when', 'being', 'by', 'be', 'some', 'own', 'won', \"you'd\", \"should've\", 'into', 'such', 'ours', 'she', 'm', 'why', 'are', 'i', 'up', 'on', 'only', 'what', 'our', \"you've\", 'and', 'or', 'few', 'nor', 'just', 'didn', 'were', 'of', \"mustn't\", 'mustn', 'do', 's', \"won't\", \"you'll\", 'very', \"doesn't\", 'until', 'down', 'yourselves', 'hadn', 'here', 'more', 'wasn', 'hers', 'your', 'those', \"aren't\", 'haven', 'no', 'other', 'after', \"wasn't\", 'the', 'if', 'isn', 'is', 'it', 'hasn', 'all', 'below', 'they', 'myself', 'him', 'yourself', \"didn't\", 'this', 'then', 'whom', 'any', 'theirs', \"hadn't\", 'themselves', 'for', 'am', 'because', 'her', 'a', 'itself', 'd', \"haven't\", 'can', \"needn't\", 'doing', 'should', 'was', 'y', 'don', 'he', 't', 'does', 'had']\n"
     ]
    }
   ],
   "source": [
    "len(stop)\n",
    "print(list(stop))"
   ]
  },
  {
   "cell_type": "markdown",
   "metadata": {},
   "source": [
    "**stop words are tipically removed during text analysis**"
   ]
  },
  {
   "cell_type": "code",
   "execution_count": 4,
   "metadata": {},
   "outputs": [],
   "source": [
    "text = codecs.open(\"inaug_speeches.csv\",\"r\",\"iso-8859-2\").read()"
   ]
  },
  {
   "cell_type": "code",
   "execution_count": 5,
   "metadata": {},
   "outputs": [],
   "source": [
    "from nltk.tokenize import word_tokenize"
   ]
  },
  {
   "cell_type": "code",
   "execution_count": 6,
   "metadata": {},
   "outputs": [],
   "source": [
    "chunk = text[0:2000]"
   ]
  },
  {
   "cell_type": "code",
   "execution_count": 7,
   "metadata": {},
   "outputs": [],
   "source": [
    "tokens = word_tokenize(chunk)"
   ]
  },
  {
   "cell_type": "code",
   "execution_count": 8,
   "metadata": {},
   "outputs": [
    {
     "name": "stdout",
     "output_type": "stream",
     "text": [
      "['``', '``', ',', \"''\", 'Name', \"''\", ',', \"''\", 'Inaugural', 'Address', \"''\", ',', \"''\", 'Date', \"''\", ',', \"''\", 'text', \"''\", \"''\", '4', \"''\", ',', \"''\", 'George', 'Washington', \"''\", ',', \"''\", 'First', 'Inaugural', 'Address', \"''\", ',', \"''\", 'Thursday', ',', 'April', '30', ',', '1789', \"''\", ',', \"''\", 'Fellow-Citizens', 'of', 'the', 'Senate', 'and', 'of', 'the', 'House', 'of', 'Representatives', ':', 'AMONG', 'the', 'vicissitudes', 'incident', 'to', 'life', 'no', 'event', 'could', 'have', 'filled', 'me', 'with', 'greater', 'anxieties', 'than', 'that', 'of', 'which', 'the', 'notification', 'was', 'transmitted', 'by', 'your', 'order', ',', 'and', 'received', 'on', 'the', 'th', 'day', 'of', 'the', 'present', 'month', '.', 'On', 'the', 'one', 'hand', ',', 'I', 'was', 'summoned', 'by', 'my', 'country', ',', 'whose', 'voice', 'I', 'can', 'never', 'hear', 'but', 'with', 'veneration', 'and', 'love', ',', 'from', 'a', 'retreat', 'which', 'I', 'had', 'chosen', 'with', 'the', 'fondest', 'predilection', ',', 'and', ',', 'in', 'my', 'flattering', 'hopes', ',', 'with', 'an', 'immutable', 'decision', ',', 'as', 'the', 'asylum', 'of', 'my', 'declining', 'years', '<', 'U+0097', '>', 'a', 'retreat', 'which', 'was', 'rendered', 'every', 'day', 'more', 'necessary', 'as', 'well', 'as', 'more', 'dear', 'to', 'me', 'by', 'the', 'addition', 'of', 'habit', 'to', 'inclination', ',', 'and', 'of', 'frequent', 'interruptions', 'in', 'my', 'health', 'to', 'the', 'gradual', 'waste', 'committed', 'on', 'it', 'by', 'time', '.', 'On', 'the', 'other', 'hand', ',', 'the', 'magnitude', 'and', 'difficulty', 'of', 'the', 'trust', 'to', 'which', 'the', 'voice', 'of', 'my', 'country', 'called', 'me', ',', 'being', 'sufficient', 'to', 'awaken', 'in', 'the', 'wisest', 'and', 'most', 'experienced', 'of', 'her', 'citizens', 'a', 'distrustful', 'scrutiny', 'into', 'his', 'qualifications', ',', 'could', 'not', 'but', 'overwhelm', 'with', 'despondence', 'one', 'who', '(', 'inheriting', 'inferior', 'endowments', 'from', 'nature', 'and', 'unpracticed', 'in', 'the', 'duties', 'of', 'civil', 'administration', ')', 'ought', 'to', 'be', 'peculiarly', 'conscious', 'of', 'his', 'own', 'deficiencies', '.', 'In', 'this', 'conflict', 'of', 'emotions', 'all', 'I', 'dare', 'aver', 'is', 'that', 'it', 'has', 'been', 'my', 'faithful', 'study', 'to', 'collect', 'my', 'duty', 'from', 'a', 'just', 'appreciation', 'of', 'every', 'circumstance', 'by', 'which', 'it', 'might', 'be', 'affected', '.', 'All', 'I', 'dare', 'hope', 'is', 'that', 'if', ',', 'in', 'executing', 'this', 'task', ',', 'I', 'have', 'been', 'too', 'much', 'swayed', 'by', 'a', 'grateful', 'remembrance', 'of', 'former', 'instances', ',', 'or', 'by', 'an', 'affectionate', 'sensibility', 'to', 'this', 'transcendent', 'proof', 'of', 'the', 'confidence', 'of', 'my', 'fellow-citizens', ',', 'and', 'have', 'thence', 'too', 'little', 'consulted', 'my', 'incapacity', 'as', 'well', 'as', 'disinclination', 'for', 'the', 'weighty', 'and', 'untried', 'cares', 'before', 'me', ',', 'my', 'error', 'will', 'be', 'palliated', 'by', 'the', 'motives', 'which', 'mislead', 'me', ',', 'and', 'its', 'consequences', 'be', 'judged', 'by', 'my', 'country', 'with', 'some', 'share', 'of', 'the', 'partial']\n"
     ]
    }
   ],
   "source": [
    "print(tokens)"
   ]
  },
  {
   "cell_type": "markdown",
   "metadata": {},
   "source": [
    "**removing stop words**"
   ]
  },
  {
   "cell_type": "code",
   "execution_count": 9,
   "metadata": {},
   "outputs": [],
   "source": [
    "filtered = []\n",
    "for t in tokens:\n",
    "    if(t not in stop):\n",
    "        filtered.append(t)"
   ]
  },
  {
   "cell_type": "code",
   "execution_count": 10,
   "metadata": {},
   "outputs": [
    {
     "name": "stdout",
     "output_type": "stream",
     "text": [
      "['``', '``', ',', \"''\", 'Name', \"''\", ',', \"''\", 'Inaugural', 'Address', \"''\", ',', \"''\", 'Date', \"''\", ',', \"''\", 'text', \"''\", \"''\", '4', \"''\", ',', \"''\", 'George', 'Washington', \"''\", ',', \"''\", 'First', 'Inaugural', 'Address', \"''\", ',', \"''\", 'Thursday', ',', 'April', '30', ',', '1789', \"''\", ',', \"''\", 'Fellow-Citizens', 'Senate', 'House', 'Representatives', ':', 'AMONG', 'vicissitudes', 'incident', 'life', 'event', 'could', 'filled', 'greater', 'anxieties', 'notification', 'transmitted', 'order', ',', 'received', 'th', 'day', 'present', 'month', '.', 'On', 'one', 'hand', ',', 'I', 'summoned', 'country', ',', 'whose', 'voice', 'I', 'never', 'hear', 'veneration', 'love', ',', 'retreat', 'I', 'chosen', 'fondest', 'predilection', ',', ',', 'flattering', 'hopes', ',', 'immutable', 'decision', ',', 'asylum', 'declining', 'years', '<', 'U+0097', '>', 'retreat', 'rendered', 'every', 'day', 'necessary', 'well', 'dear', 'addition', 'habit', 'inclination', ',', 'frequent', 'interruptions', 'health', 'gradual', 'waste', 'committed', 'time', '.', 'On', 'hand', ',', 'magnitude', 'difficulty', 'trust', 'voice', 'country', 'called', ',', 'sufficient', 'awaken', 'wisest', 'experienced', 'citizens', 'distrustful', 'scrutiny', 'qualifications', ',', 'could', 'overwhelm', 'despondence', 'one', '(', 'inheriting', 'inferior', 'endowments', 'nature', 'unpracticed', 'duties', 'civil', 'administration', ')', 'ought', 'peculiarly', 'conscious', 'deficiencies', '.', 'In', 'conflict', 'emotions', 'I', 'dare', 'aver', 'faithful', 'study', 'collect', 'duty', 'appreciation', 'every', 'circumstance', 'might', 'affected', '.', 'All', 'I', 'dare', 'hope', ',', 'executing', 'task', ',', 'I', 'much', 'swayed', 'grateful', 'remembrance', 'former', 'instances', ',', 'affectionate', 'sensibility', 'transcendent', 'proof', 'confidence', 'fellow-citizens', ',', 'thence', 'little', 'consulted', 'incapacity', 'well', 'disinclination', 'weighty', 'untried', 'cares', ',', 'error', 'palliated', 'motives', 'mislead', ',', 'consequences', 'judged', 'country', 'share', 'partial']\n"
     ]
    }
   ],
   "source": [
    "print(filtered)"
   ]
  },
  {
   "cell_type": "markdown",
   "metadata": {},
   "source": [
    "**remove punctuation**"
   ]
  },
  {
   "cell_type": "code",
   "execution_count": 11,
   "metadata": {},
   "outputs": [],
   "source": [
    "import string\n",
    "\n",
    "punctuation = string.punctuation"
   ]
  },
  {
   "cell_type": "code",
   "execution_count": 12,
   "metadata": {},
   "outputs": [],
   "source": [
    "filtered2 = []\n",
    "for f in filtered:\n",
    "    if(f not in punctuation):\n",
    "        filtered2.append(f)"
   ]
  },
  {
   "cell_type": "code",
   "execution_count": 14,
   "metadata": {},
   "outputs": [
    {
     "name": "stdout",
     "output_type": "stream",
     "text": [
      "['``', '``', \"''\", 'Name', \"''\", \"''\", 'Inaugural', 'Address', \"''\", \"''\", 'Date', \"''\", \"''\", 'text', \"''\", \"''\", '4', \"''\", \"''\", 'George', 'Washington', \"''\", \"''\", 'First', 'Inaugural', 'Address', \"''\", \"''\", 'Thursday', 'April', '30', '1789', \"''\", \"''\", 'Fellow-Citizens', 'Senate', 'House', 'Representatives', 'AMONG', 'vicissitudes', 'incident', 'life', 'event', 'could', 'filled', 'greater', 'anxieties', 'notification', 'transmitted', 'order', 'received', 'th', 'day', 'present', 'month', 'On', 'one', 'hand', 'I', 'summoned', 'country', 'whose', 'voice', 'I', 'never', 'hear', 'veneration', 'love', 'retreat', 'I', 'chosen', 'fondest', 'predilection', 'flattering', 'hopes', 'immutable', 'decision', 'asylum', 'declining', 'years', 'U+0097', 'retreat', 'rendered', 'every', 'day', 'necessary', 'well', 'dear', 'addition', 'habit', 'inclination', 'frequent', 'interruptions', 'health', 'gradual', 'waste', 'committed', 'time', 'On', 'hand', 'magnitude', 'difficulty', 'trust', 'voice', 'country', 'called', 'sufficient', 'awaken', 'wisest', 'experienced', 'citizens', 'distrustful', 'scrutiny', 'qualifications', 'could', 'overwhelm', 'despondence', 'one', 'inheriting', 'inferior', 'endowments', 'nature', 'unpracticed', 'duties', 'civil', 'administration', 'ought', 'peculiarly', 'conscious', 'deficiencies', 'In', 'conflict', 'emotions', 'I', 'dare', 'aver', 'faithful', 'study', 'collect', 'duty', 'appreciation', 'every', 'circumstance', 'might', 'affected', 'All', 'I', 'dare', 'hope', 'executing', 'task', 'I', 'much', 'swayed', 'grateful', 'remembrance', 'former', 'instances', 'affectionate', 'sensibility', 'transcendent', 'proof', 'confidence', 'fellow-citizens', 'thence', 'little', 'consulted', 'incapacity', 'well', 'disinclination', 'weighty', 'untried', 'cares', 'error', 'palliated', 'motives', 'mislead', 'consequences', 'judged', 'country', 'share', 'partial']\n"
     ]
    }
   ],
   "source": [
    "print(filtered2)"
   ]
  },
  {
   "cell_type": "code",
   "execution_count": 15,
   "metadata": {},
   "outputs": [
    {
     "name": "stdout",
     "output_type": "stream",
     "text": [
      "182\n"
     ]
    }
   ],
   "source": [
    "print(len(filtered2))"
   ]
  },
  {
   "cell_type": "code",
   "execution_count": 16,
   "metadata": {},
   "outputs": [
    {
     "name": "stdout",
     "output_type": "stream",
     "text": [
      "219\n"
     ]
    }
   ],
   "source": [
    "print(len(filtered))"
   ]
  },
  {
   "cell_type": "markdown",
   "metadata": {},
   "source": [
    "**punctuation removal is not optimal !**"
   ]
  },
  {
   "cell_type": "markdown",
   "metadata": {},
   "source": [
    "**first strategy**"
   ]
  },
  {
   "cell_type": "markdown",
   "metadata": {},
   "source": [
    "Start from the beginning: "
   ]
  },
  {
   "cell_type": "code",
   "execution_count": 17,
   "metadata": {},
   "outputs": [],
   "source": [
    "allText = []\n",
    "for c in chunk:\n",
    "    if(c not in punctuation):\n",
    "        allText.append(c)\n",
    "    else:\n",
    "        allText.append(\" \")\n",
    "\n",
    "reconstructed_text = \"\".join(allText)"
   ]
  },
  {
   "cell_type": "code",
   "execution_count": 18,
   "metadata": {},
   "outputs": [
    {
     "name": "stdout",
     "output_type": "stream",
     "text": [
      "    Name   Inaugural Address   Date   text \n",
      " 4   George Washington   First Inaugural Address   Thursday  April 30  1789              Fellow Citizens of the Senate and of the House of Representatives     AMONG the vicissitudes incident to life no event could have filled me with greater anxieties than that of which the notification was transmitted by your order  and received on the   th day of the present month  On the one hand  I was summoned by my country  whose voice I can never hear but with veneration and love  from a retreat which I had chosen with the fondest predilection  and  in my flattering hopes  with an immutable decision  as the asylum of my declining years U 0097 a retreat which was rendered every day more necessary as well as more dear to me by the addition of habit to inclination  and of frequent interruptions in my health to the gradual waste committed on it by time  On the other hand  the magnitude and difficulty of the trust to which the voice of my country called me  being sufficient to awaken in the wisest and most experienced of her citizens a distrustful scrutiny into his qualifications  could not but overwhelm with despondence one who  inheriting inferior endowments from nature and unpracticed in the duties of civil administration  ought to be peculiarly conscious of his own deficiencies  In this conflict of emotions all I dare aver is that it has been my faithful study to collect my duty from a just appreciation of every circumstance by which it might be affected  All I dare hope is that if  in executing this task  I have been too much swayed by a grateful remembrance of former instances  or by an affectionate sensibility to this transcendent proof of the confidence of my fellow citizens  and have thence too little consulted my incapacity as well as disinclination for the weighty and untried cares before me  my error will be palliated by the motives which mislead me  and its consequences be judged by my country with some share of the partial\n"
     ]
    }
   ],
   "source": [
    "print(reconstructed_text)"
   ]
  },
  {
   "cell_type": "code",
   "execution_count": 19,
   "metadata": {},
   "outputs": [],
   "source": [
    "tokens = word_tokenize(reconstructed_text)\n",
    "filtered = []\n",
    "for t in tokens:\n",
    "    if(t not in stop):\n",
    "        filtered.append(t)"
   ]
  },
  {
   "cell_type": "code",
   "execution_count": 20,
   "metadata": {},
   "outputs": [
    {
     "name": "stdout",
     "output_type": "stream",
     "text": [
      "['Name', 'Inaugural', 'Address', 'Date', 'text', '4', 'George', 'Washington', 'First', 'Inaugural', 'Address', 'Thursday', 'April', '30', '1789', 'Fellow', 'Citizens', 'Senate', 'House', 'Representatives', 'AMONG', 'vicissitudes', 'incident', 'life', 'event', 'could', 'filled', 'greater', 'anxieties', 'notification', 'transmitted', 'order', 'received', 'th', 'day', 'present', 'month', 'On', 'one', 'hand', 'I', 'summoned', 'country', 'whose', 'voice', 'I', 'never', 'hear', 'veneration', 'love', 'retreat', 'I', 'chosen', 'fondest', 'predilection', 'flattering', 'hopes', 'immutable', 'decision', 'asylum', 'declining', 'years', 'U', '0097', 'retreat', 'rendered', 'every', 'day', 'necessary', 'well', 'dear', 'addition', 'habit', 'inclination', 'frequent', 'interruptions', 'health', 'gradual', 'waste', 'committed', 'time', 'On', 'hand', 'magnitude', 'difficulty', 'trust', 'voice', 'country', 'called', 'sufficient', 'awaken', 'wisest', 'experienced', 'citizens', 'distrustful', 'scrutiny', 'qualifications', 'could', 'overwhelm', 'despondence', 'one', 'inheriting', 'inferior', 'endowments', 'nature', 'unpracticed', 'duties', 'civil', 'administration', 'ought', 'peculiarly', 'conscious', 'deficiencies', 'In', 'conflict', 'emotions', 'I', 'dare', 'aver', 'faithful', 'study', 'collect', 'duty', 'appreciation', 'every', 'circumstance', 'might', 'affected', 'All', 'I', 'dare', 'hope', 'executing', 'task', 'I', 'much', 'swayed', 'grateful', 'remembrance', 'former', 'instances', 'affectionate', 'sensibility', 'transcendent', 'proof', 'confidence', 'fellow', 'citizens', 'thence', 'little', 'consulted', 'incapacity', 'well', 'disinclination', 'weighty', 'untried', 'cares', 'error', 'palliated', 'motives', 'mislead', 'consequences', 'judged', 'country', 'share', 'partial']\n"
     ]
    }
   ],
   "source": [
    "print(filtered)"
   ]
  },
  {
   "cell_type": "code",
   "execution_count": 21,
   "metadata": {},
   "outputs": [
    {
     "name": "stdout",
     "output_type": "stream",
     "text": [
      "166\n"
     ]
    }
   ],
   "source": [
    "print(len(filtered))"
   ]
  },
  {
   "cell_type": "markdown",
   "metadata": {},
   "source": [
    "# Text Stemming  #"
   ]
  },
  {
   "cell_type": "markdown",
   "metadata": {},
   "source": [
    "\" Stemmers remove morphological affixes from words, leaving only the word stem.\""
   ]
  },
  {
   "cell_type": "markdown",
   "metadata": {},
   "source": [
    "In plain English a stemmer transform words to their logical root: Owners --> Owner is a simple case of plural to singular"
   ]
  },
  {
   "cell_type": "code",
   "execution_count": 25,
   "metadata": {},
   "outputs": [],
   "source": [
    "from nltk.stem.porter import PorterStemmer"
   ]
  },
  {
   "cell_type": "code",
   "execution_count": 26,
   "metadata": {},
   "outputs": [],
   "source": [
    "porter_stemmer = PorterStemmer()"
   ]
  },
  {
   "cell_type": "code",
   "execution_count": 27,
   "metadata": {},
   "outputs": [
    {
     "name": "stdout",
     "output_type": "stream",
     "text": [
      "Word: Owner ; Stemmed: owner\n",
      "Word: Maximum ; Stemmed: maximum\n",
      "Word: Those ; Stemmed: those\n",
      "Word: Girls ; Stemmed: girl\n",
      "Word: Learning ; Stemmed: learn\n"
     ]
    }
   ],
   "source": [
    "tests = [ 'Owner', 'Maximum', 'Those', 'Girls', 'Learning']\n",
    "\n",
    "for t in tests:\n",
    "    print(\"Word: %s ; Stemmed: %s\"%(t, porter_stemmer.stem(t)))"
   ]
  },
  {
   "cell_type": "code",
   "execution_count": 28,
   "metadata": {},
   "outputs": [],
   "source": [
    "## several words remain constant while others are reduced to their basic root ##"
   ]
  },
  {
   "cell_type": "code",
   "execution_count": 29,
   "metadata": {},
   "outputs": [],
   "source": [
    "filtered_with_stem = []\n",
    "\n",
    "for word in filtered:\n",
    "    stem = porter_stemmer.stem(word)\n",
    "    filtered_with_stem.append(stem)"
   ]
  },
  {
   "cell_type": "code",
   "execution_count": 30,
   "metadata": {},
   "outputs": [
    {
     "name": "stdout",
     "output_type": "stream",
     "text": [
      "['name', 'inaugur', 'address', 'date', 'text', '4', 'georg', 'washington', 'first', 'inaugur', 'address', 'thursday', 'april', '30', '1789', 'fellow', 'citizen', 'senat', 'hous', 'repres', 'among', 'vicissitud', 'incid', 'life', 'event', 'could', 'fill', 'greater', 'anxieti', 'notif', 'transmit', 'order', 'receiv', 'th', 'day', 'present', 'month', 'On', 'one', 'hand', 'I', 'summon', 'countri', 'whose', 'voic', 'I', 'never', 'hear', 'vener', 'love', 'retreat', 'I', 'chosen', 'fondest', 'predilect', 'flatter', 'hope', 'immut', 'decis', 'asylum', 'declin', 'year', 'U', '0097', 'retreat', 'render', 'everi', 'day', 'necessari', 'well', 'dear', 'addit', 'habit', 'inclin', 'frequent', 'interrupt', 'health', 'gradual', 'wast', 'commit', 'time', 'On', 'hand', 'magnitud', 'difficulti', 'trust', 'voic', 'countri', 'call', 'suffici', 'awaken', 'wisest', 'experienc', 'citizen', 'distrust', 'scrutini', 'qualif', 'could', 'overwhelm', 'despond', 'one', 'inherit', 'inferior', 'endow', 'natur', 'unpract', 'duti', 'civil', 'administr', 'ought', 'peculiarli', 'consciou', 'defici', 'In', 'conflict', 'emot', 'I', 'dare', 'aver', 'faith', 'studi', 'collect', 'duti', 'appreci', 'everi', 'circumst', 'might', 'affect', 'all', 'I', 'dare', 'hope', 'execut', 'task', 'I', 'much', 'sway', 'grate', 'remembr', 'former', 'instanc', 'affection', 'sensibl', 'transcend', 'proof', 'confid', 'fellow', 'citizen', 'thenc', 'littl', 'consult', 'incapac', 'well', 'disinclin', 'weighti', 'untri', 'care', 'error', 'palliat', 'motiv', 'mislead', 'consequ', 'judg', 'countri', 'share', 'partial']\n"
     ]
    }
   ],
   "source": [
    "print(filtered_with_stem)"
   ]
  },
  {
   "cell_type": "code",
   "execution_count": 31,
   "metadata": {},
   "outputs": [
    {
     "name": "stdout",
     "output_type": "stream",
     "text": [
      "146\n",
      "142\n"
     ]
    }
   ],
   "source": [
    "## checking the effects using the sets:\n",
    "\n",
    "print(len(set(filtered)))\n",
    "\n",
    "print(len(set(filtered_with_stem)))\n"
   ]
  },
  {
   "cell_type": "code",
   "execution_count": 32,
   "metadata": {},
   "outputs": [],
   "source": [
    "## we collapsed 4 more words"
   ]
  },
  {
   "cell_type": "markdown",
   "metadata": {},
   "source": [
    "**a more aggressive stemmer**"
   ]
  },
  {
   "cell_type": "code",
   "execution_count": 33,
   "metadata": {},
   "outputs": [],
   "source": [
    "from nltk.stem.lancaster import LancasterStemmer"
   ]
  },
  {
   "cell_type": "code",
   "execution_count": 34,
   "metadata": {},
   "outputs": [],
   "source": [
    "lancaster_stemmer = LancasterStemmer()"
   ]
  },
  {
   "cell_type": "code",
   "execution_count": 35,
   "metadata": {},
   "outputs": [],
   "source": [
    "filtered_with_stem_lancaster = []\n",
    "\n",
    "for word in filtered:\n",
    "    stem = lancaster_stemmer.stem(word)\n",
    "    filtered_with_stem_lancaster.append(stem)"
   ]
  },
  {
   "cell_type": "code",
   "execution_count": 36,
   "metadata": {},
   "outputs": [
    {
     "name": "stdout",
     "output_type": "stream",
     "text": [
      "146\n",
      "140\n"
     ]
    }
   ],
   "source": [
    "## checking the effects using the sets:\n",
    "\n",
    "print(len(set(filtered)))\n",
    "\n",
    "print(len(set(filtered_with_stem_lancaster)))"
   ]
  },
  {
   "cell_type": "code",
   "execution_count": 37,
   "metadata": {},
   "outputs": [
    {
     "name": "stdout",
     "output_type": "stream",
     "text": [
      "['nam', 'inaug', 'address', 'dat', 'text', '4', 'georg', 'washington', 'first', 'inaug', 'address', 'thursday', 'april', '30', '1789', 'fellow', 'cit', 'sen', 'hous', 'repres', 'among', 'vicissitud', 'incid', 'lif', 'ev', 'could', 'fil', 'gre', 'anxy', 'not', 'transmit', 'ord', 'receiv', 'th', 'day', 'pres', 'mon', 'on', 'on', 'hand', 'i', 'summon', 'country', 'whos', 'voic', 'i', 'nev', 'hear', 'ven', 'lov', 'ret', 'i', 'chos', 'fondest', 'predilect', 'flat', 'hop', 'immut', 'decid', 'asyl', 'declin', 'year', 'u', '0097', 'ret', 'rend', 'every', 'day', 'necess', 'wel', 'dear', 'addit', 'habit', 'inclin', 'frequ', 'interrupt', 'heal', 'grad', 'wast', 'commit', 'tim', 'on', 'hand', 'magnitud', 'difficul', 'trust', 'voic', 'country', 'cal', 'sufficy', 'awak', 'wisest', 'expery', 'cit', 'distrust', 'scrutiny', 'qual', 'could', 'overwhelm', 'despond', 'on', 'inherit', 'infery', 'endow', 'nat', 'unpract', 'duty', 'civil', 'admin', 'ought', 'peculi', 'conscy', 'deficy', 'in', 'conflict', 'emot', 'i', 'dar', 'av', 'faith', 'study', 'collect', 'duty', 'apprecy', 'every', 'circumst', 'might', 'affect', 'al', 'i', 'dar', 'hop', 'execut', 'task', 'i', 'much', 'sway', 'grat', 'remembr', 'form', 'inst', 'affect', 'sens', 'transcend', 'proof', 'confid', 'fellow', 'cit', 'thent', 'littl', 'consult', 'incapac', 'wel', 'disinclin', 'weighty', 'untry', 'car', 'er', 'pal', 'mot', 'mislead', 'consequ', 'judg', 'country', 'shar', 'part']\n"
     ]
    }
   ],
   "source": [
    "print(filtered_with_stem_lancaster)"
   ]
  },
  {
   "cell_type": "markdown",
   "metadata": {},
   "source": [
    "### Exercises:###\n",
    "\n",
    "* apply the stemming before sentence tokenization, or after word tokenization. Explore the pros/cons of the order of operations in terms of reduced vocabulary and potential loss of information\n"
   ]
  },
  {
   "cell_type": "code",
   "execution_count": null,
   "metadata": {},
   "outputs": [],
   "source": []
  },
  {
   "cell_type": "code",
   "execution_count": null,
   "metadata": {},
   "outputs": [],
   "source": []
  }
 ],
 "metadata": {
  "kernelspec": {
   "display_name": "Python 3",
   "language": "python",
   "name": "python3"
  },
  "language_info": {
   "codemirror_mode": {
    "name": "ipython",
    "version": 3
   },
   "file_extension": ".py",
   "mimetype": "text/x-python",
   "name": "python",
   "nbconvert_exporter": "python",
   "pygments_lexer": "ipython3",
   "version": "3.6.8"
  }
 },
 "nbformat": 4,
 "nbformat_minor": 4
}
