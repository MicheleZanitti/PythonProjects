{
 "cells": [
  {
   "cell_type": "markdown",
   "metadata": {},
   "source": [
    "# Introduction to text analisys III #"
   ]
  },
  {
   "cell_type": "markdown",
   "metadata": {},
   "source": [
    "## Tokenization part II ##"
   ]
  },
  {
   "cell_type": "markdown",
   "metadata": {},
   "source": [
    "**working with text**\n",
    "\n",
    "Consider the following text (first in raw notebook format)"
   ]
  },
  {
   "cell_type": "markdown",
   "metadata": {},
   "source": [
    "In computing, a comma-separated values (CSV) file stores tabular data (numbers and text) in plain text. Each line of the file is a data record. Each record consists of one or more fields, separated by commas. The use of the comma as a field separator is the source of the name for this file format.\n",
    "\n",
    "The CSV file format is not standardized. The basic idea of separating fields with a comma is clear, but that idea gets complicated when the field data may also contain commas or even embedded line-breaks. CSV implementations may not handle such field data, or they may use quotation marks to surround the field. Quotation does not solve everything: some fields may need embedded quotation marks, so a CSV implementation may include escape characters or escape sequences.\n",
    "\n",
    "In addition, the term \"CSV\" also denotes some closely related delimiter-separated formats that use different field delimiters. These include tab-separated values and space-separated values. A delimiter that is not present in the field data (such as tab) keeps the format parsing simple. These alternate delimiter-separated files are often even given a .csv extension despite the use of a non-comma field separator. This loose terminology can cause problems in data exchange. Many applications that accept CSV files have options to select the delimiter character and the quotation character."
   ]
  },
  {
   "cell_type": "markdown",
   "metadata": {},
   "source": [
    "put it in a single variable"
   ]
  },
  {
   "cell_type": "code",
   "execution_count": 2,
   "metadata": {},
   "outputs": [],
   "source": [
    "text = \"\"\"In computing, a comma-separated values (CSV) file stores tabular data (numbers and text) in plain text. Each line of the file is a data record. Each record consists of one or more fields, separated by commas. The use of the comma as a field separator is the source of the name for this file format.\n",
    "\n",
    "The CSV file format is not standardized. The basic idea of separating fields with a comma is clear, but that idea gets complicated when the field data may also contain commas or even embedded line-breaks. CSV implementations may not handle such field data, or they may use quotation marks to surround the field. Quotation does not solve everything: some fields may need embedded quotation marks, so a CSV implementation may include escape characters or escape sequences.\n",
    "\n",
    "In addition, the term \"CSV\" also denotes some closely related delimiter-separated formats that use different field delimiters. These include tab-separated values and space-separated values. A delimiter that is not present in the field data (such as tab) keeps the format parsing simple. These alternate delimiter-separated files are often even given a .csv extension despite the use of a non-comma field separator. This loose terminology can cause problems in data exchange. Many applications that accept CSV files have options to select the delimiter character and the quotation character.\n",
    "\n",
    "\"\"\""
   ]
  },
  {
   "cell_type": "markdown",
   "metadata": {},
   "source": [
    "Extracting sentences ? extracting paragraphs ?"
   ]
  },
  {
   "cell_type": "code",
   "execution_count": 3,
   "metadata": {},
   "outputs": [
    {
     "name": "stdout",
     "output_type": "stream",
     "text": [
      "In computing, a comma-separated values (CSV) file stores tabular data (numbers and text) in plain text. Each line of the file is a data record. Each record consists of one or more fields, separated by commas. The use of the comma as a field separator is the source of the name for this file format.\n"
     ]
    }
   ],
   "source": [
    "paragraphs = text.split(\"\\n\")\n",
    "\n",
    "print(paragraphs[0])"
   ]
  },
  {
   "cell_type": "code",
   "execution_count": 4,
   "metadata": {},
   "outputs": [
    {
     "name": "stdout",
     "output_type": "stream",
     "text": [
      "\n"
     ]
    }
   ],
   "source": [
    "print(paragraphs[1]) ## why is this empty ?"
   ]
  },
  {
   "cell_type": "code",
   "execution_count": 5,
   "metadata": {},
   "outputs": [
    {
     "name": "stdout",
     "output_type": "stream",
     "text": [
      "The CSV file format is not standardized. The basic idea of separating fields with a comma is clear, but that idea gets complicated when the field data may also contain commas or even embedded line-breaks. CSV implementations may not handle such field data, or they may use quotation marks to surround the field. Quotation does not solve everything: some fields may need embedded quotation marks, so a CSV implementation may include escape characters or escape sequences.\n"
     ]
    }
   ],
   "source": [
    "paragraphs = text.split(\"\\n\\n\") ## solution double \\n\\n ...\n",
    "\n",
    "print(paragraphs[1])"
   ]
  },
  {
   "cell_type": "markdown",
   "metadata": {},
   "source": [
    "**a better solution**"
   ]
  },
  {
   "cell_type": "code",
   "execution_count": 5,
   "metadata": {},
   "outputs": [
    {
     "name": "stdout",
     "output_type": "stream",
     "text": [
      "['In computing, a comma-separated values (CSV) file stores tabular data (numbers and text) in plain text. Each line of the file is a data record. Each record consists of one or more fields, separated by commas. The use of the comma as a field separator is the source of the name for this file format.', 'The CSV file format is not standardized. The basic idea of separating fields with a comma is clear, but that idea gets complicated when the field data may also contain commas or even embedded line-breaks. CSV implementations may not handle such field data, or they may use quotation marks to surround the field. Quotation does not solve everything: some fields may need embedded quotation marks, so a CSV implementation may include escape characters or escape sequences.', 'In addition, the term \"CSV\" also denotes some closely related delimiter-separated formats that use different field delimiters. These include tab-separated values and space-separated values. A delimiter that is not present in the field data (such as tab) keeps the format parsing simple. These alternate delimiter-separated files are often even given a .csv extension despite the use of a non-comma field separator. This loose terminology can cause problems in data exchange. Many applications that accept CSV files have options to select the delimiter character and the quotation character.', '']\n"
     ]
    }
   ],
   "source": [
    "import re\n",
    "\n",
    "sp = re.split('\\n+', text) ## splitting using regular expressions\n",
    "print(sp)"
   ]
  },
  {
   "cell_type": "code",
   "execution_count": null,
   "metadata": {},
   "outputs": [],
   "source": []
  },
  {
   "cell_type": "markdown",
   "metadata": {},
   "source": [
    "**splitting sentences simple way**"
   ]
  },
  {
   "cell_type": "code",
   "execution_count": 6,
   "metadata": {},
   "outputs": [
    {
     "name": "stdout",
     "output_type": "stream",
     "text": [
      "['In computing, a comma-separated values (CSV) file stores tabular data (numbers and text) in plain text', ' Each line of the file is a data record', ' Each record consists of one or more fields, separated by commas', ' The use of the comma as a field separator is the source of the name for this file format', '']\n"
     ]
    }
   ],
   "source": [
    "for s in sp:\n",
    "    sentences = s.split(\".\")\n",
    "    print(sentences)\n",
    "    break"
   ]
  },
  {
   "cell_type": "markdown",
   "metadata": {},
   "source": [
    "## tokenization the professional way ##"
   ]
  },
  {
   "cell_type": "markdown",
   "metadata": {},
   "source": [
    "**using NLTK natural language toolkit**\n",
    "\n",
    "A powerful and well documented library for Text analysis"
   ]
  },
  {
   "cell_type": "code",
   "execution_count": 8,
   "metadata": {},
   "outputs": [],
   "source": [
    "import nltk \n",
    "from nltk.tokenize import sent_tokenize"
   ]
  },
  {
   "cell_type": "markdown",
   "metadata": {},
   "source": [
    "**to use the sentence tokenizer we need an english corpus called \"punkt\" with nltk.download()**"
   ]
  },
  {
   "cell_type": "code",
   "execution_count": 9,
   "metadata": {},
   "outputs": [],
   "source": [
    "sentences = sent_tokenize(text)"
   ]
  },
  {
   "cell_type": "code",
   "execution_count": 10,
   "metadata": {},
   "outputs": [
    {
     "name": "stdout",
     "output_type": "stream",
     "text": [
      "In computing, a comma-separated values (CSV) file stores tabular data (numbers and text) in plain text.\n",
      "Each line of the file is a data record.\n",
      "Each record consists of one or more fields, separated by commas.\n",
      "The use of the comma as a field separator is the source of the name for this file format.\n",
      "The CSV file format is not standardized.\n",
      "The basic idea of separating fields with a comma is clear, but that idea gets complicated when the field data may also contain commas or even embedded line-breaks.\n",
      "CSV implementations may not handle such field data, or they may use quotation marks to surround the field.\n",
      "Quotation does not solve everything: some fields may need embedded quotation marks, so a CSV implementation may include escape characters or escape sequences.\n",
      "In addition, the term \"CSV\" also denotes some closely related delimiter-separated formats that use different field delimiters.\n",
      "These include tab-separated values and space-separated values.\n",
      "A delimiter that is not present in the field data (such as tab) keeps the format parsing simple.\n",
      "These alternate delimiter-separated files are often even given a .csv extension despite the use of a non-comma field separator.\n",
      "This loose terminology can cause problems in data exchange.\n",
      "Many applications that accept CSV files have options to select the delimiter character and the quotation character.\n"
     ]
    }
   ],
   "source": [
    "for s in sentences:\n",
    "    print(s)"
   ]
  },
  {
   "cell_type": "markdown",
   "metadata": {},
   "source": [
    "nltk is smart enough to manage several complex cases.\n",
    "\n",
    "* Dealing with achronims"
   ]
  },
  {
   "cell_type": "code",
   "execution_count": 12,
   "metadata": {},
   "outputs": [],
   "source": [
    "complex_case = \"This is a sentence. In this one there is an acronym N.A.S.A to treat like a sentence.\"\n",
    "sentences = sent_tokenize(complex_case)"
   ]
  },
  {
   "cell_type": "code",
   "execution_count": 13,
   "metadata": {},
   "outputs": [
    {
     "name": "stdout",
     "output_type": "stream",
     "text": [
      "This is a sentence.\n",
      "In this one there is an acronym N.A.S.A to treat like a sentence.\n"
     ]
    }
   ],
   "source": [
    "for c in sentences:\n",
    "    print(c)"
   ]
  },
  {
   "cell_type": "markdown",
   "metadata": {},
   "source": [
    "**tokenizing words**"
   ]
  },
  {
   "cell_type": "code",
   "execution_count": 14,
   "metadata": {},
   "outputs": [],
   "source": [
    "from nltk.tokenize import word_tokenize"
   ]
  },
  {
   "cell_type": "code",
   "execution_count": 15,
   "metadata": {},
   "outputs": [],
   "source": [
    "tokens = word_tokenize(text)"
   ]
  },
  {
   "cell_type": "code",
   "execution_count": 16,
   "metadata": {},
   "outputs": [
    {
     "name": "stdout",
     "output_type": "stream",
     "text": [
      "['In', 'computing', ',', 'a', 'comma-separated', 'values', '(', 'CSV', ')', 'file', 'stores', 'tabular', 'data', '(', 'numbers', 'and', 'text', ')', 'in', 'plain', 'text', '.', 'Each', 'line', 'of', 'the', 'file', 'is', 'a', 'data', 'record', '.', 'Each', 'record', 'consists', 'of', 'one', 'or', 'more', 'fields', ',', 'separated', 'by', 'commas', '.', 'The', 'use', 'of', 'the', 'comma', 'as', 'a', 'field', 'separator', 'is', 'the', 'source', 'of', 'the', 'name', 'for', 'this', 'file', 'format', '.', 'The', 'CSV', 'file', 'format', 'is', 'not', 'standardized', '.', 'The', 'basic', 'idea', 'of', 'separating', 'fields', 'with', 'a', 'comma', 'is', 'clear', ',', 'but', 'that', 'idea', 'gets', 'complicated', 'when', 'the', 'field', 'data', 'may', 'also', 'contain', 'commas', 'or', 'even', 'embedded', 'line-breaks', '.', 'CSV', 'implementations', 'may', 'not', 'handle', 'such', 'field', 'data', ',', 'or', 'they', 'may', 'use', 'quotation', 'marks', 'to', 'surround', 'the', 'field', '.', 'Quotation', 'does', 'not', 'solve', 'everything', ':', 'some', 'fields', 'may', 'need', 'embedded', 'quotation', 'marks', ',', 'so', 'a', 'CSV', 'implementation', 'may', 'include', 'escape', 'characters', 'or', 'escape', 'sequences', '.', 'In', 'addition', ',', 'the', 'term', '``', 'CSV', \"''\", 'also', 'denotes', 'some', 'closely', 'related', 'delimiter-separated', 'formats', 'that', 'use', 'different', 'field', 'delimiters', '.', 'These', 'include', 'tab-separated', 'values', 'and', 'space-separated', 'values', '.', 'A', 'delimiter', 'that', 'is', 'not', 'present', 'in', 'the', 'field', 'data', '(', 'such', 'as', 'tab', ')', 'keeps', 'the', 'format', 'parsing', 'simple', '.', 'These', 'alternate', 'delimiter-separated', 'files', 'are', 'often', 'even', 'given', 'a', '.csv', 'extension', 'despite', 'the', 'use', 'of', 'a', 'non-comma', 'field', 'separator', '.', 'This', 'loose', 'terminology', 'can', 'cause', 'problems', 'in', 'data', 'exchange', '.', 'Many', 'applications', 'that', 'accept', 'CSV', 'files', 'have', 'options', 'to', 'select', 'the', 'delimiter', 'character', 'and', 'the', 'quotation', 'character', '.']\n"
     ]
    }
   ],
   "source": [
    "print(tokens)"
   ]
  },
  {
   "cell_type": "markdown",
   "metadata": {},
   "source": [
    "**special tokenizer**"
   ]
  },
  {
   "cell_type": "code",
   "execution_count": 17,
   "metadata": {},
   "outputs": [
    {
     "name": "stdout",
     "output_type": "stream",
     "text": [
      "['This', 'is', 'a', 'cooool', '#dummysmiley', ':', ':-)', ':-P', '<3', 'and', 'some', 'arrows', '<', '>', '->', '<--']\n"
     ]
    }
   ],
   "source": [
    "from nltk.tokenize import TweetTokenizer\n",
    "\n",
    "s0 = \"This is a cooool #dummysmiley: :-) :-P <3 and some arrows < > -> <--\"\n",
    "\n",
    "model = TweetTokenizer()\n",
    "\n",
    "tokens = model.tokenize(s0)\n",
    "\n",
    "print(tokens)"
   ]
  },
  {
   "cell_type": "markdown",
   "metadata": {},
   "source": [
    "notice how the tokenizer treated the emoticons"
   ]
  },
  {
   "cell_type": "markdown",
   "metadata": {
    "jupyter": {
     "outputs_hidden": true
    }
   },
   "source": [
    "### Exercises:###\n",
    "\n",
    "* tokenize a dataset of tweets\n",
    "* count and interpret emoticons\n",
    "* simple polarization from emoticons\n",
    "    "
   ]
  },
  {
   "cell_type": "code",
   "execution_count": null,
   "metadata": {},
   "outputs": [],
   "source": []
  }
 ],
 "metadata": {
  "kernelspec": {
   "display_name": "Python 3",
   "language": "python",
   "name": "python3"
  },
  "language_info": {
   "codemirror_mode": {
    "name": "ipython",
    "version": 3
   },
   "file_extension": ".py",
   "mimetype": "text/x-python",
   "name": "python",
   "nbconvert_exporter": "python",
   "pygments_lexer": "ipython3",
   "version": "3.6.8"
  }
 },
 "nbformat": 4,
 "nbformat_minor": 4
}
