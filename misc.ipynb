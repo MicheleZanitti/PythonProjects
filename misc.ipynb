{
 "cells": [
  {
   "cell_type": "code",
   "execution_count": 1,
   "id": "66049c25",
   "metadata": {},
   "outputs": [],
   "source": [
    "# we can install python libraries from here or by opening the terminal (new>Terminal) in jupyter"
   ]
  },
  {
   "cell_type": "code",
   "execution_count": 12,
   "id": "05fbfbcc",
   "metadata": {},
   "outputs": [
    {
     "name": "stdout",
     "output_type": "stream",
     "text": [
      "Collecting translate\n",
      "  Downloading translate-3.6.1-py2.py3-none-any.whl (12 kB)\n",
      "Requirement already satisfied: click in c:\\users\\miche\\anaconda3\\lib\\site-packages (from translate) (8.0.3)\n",
      "Collecting libretranslatepy==2.1.1\n",
      "  Downloading libretranslatepy-2.1.1-py3-none-any.whl (3.2 kB)\n",
      "Requirement already satisfied: lxml in c:\\users\\miche\\anaconda3\\lib\\site-packages (from translate) (4.6.3)\n",
      "Requirement already satisfied: requests in c:\\users\\miche\\anaconda3\\lib\\site-packages (from translate) (2.26.0)\n",
      "Requirement already satisfied: colorama in c:\\users\\miche\\anaconda3\\lib\\site-packages (from click->translate) (0.4.4)\n",
      "Requirement already satisfied: charset-normalizer~=2.0.0 in c:\\users\\miche\\anaconda3\\lib\\site-packages (from requests->translate) (2.0.4)\n",
      "Requirement already satisfied: idna<4,>=2.5 in c:\\users\\miche\\anaconda3\\lib\\site-packages (from requests->translate) (2.10)\n",
      "Requirement already satisfied: certifi>=2017.4.17 in c:\\users\\miche\\anaconda3\\lib\\site-packages (from requests->translate) (2021.10.8)\n",
      "Requirement already satisfied: urllib3<1.27,>=1.21.1 in c:\\users\\miche\\anaconda3\\lib\\site-packages (from requests->translate) (1.26.7)\n",
      "Installing collected packages: libretranslatepy, translate\n",
      "Successfully installed libretranslatepy-2.1.1 translate-3.6.1\n"
     ]
    }
   ],
   "source": [
    "# to install a translator library:\n",
    "!pip install translate"
   ]
  },
  {
   "cell_type": "code",
   "execution_count": 25,
   "id": "e6370772",
   "metadata": {},
   "outputs": [],
   "source": [
    "from translate import Translator\n",
    "translator= Translator(from_lang=\"it\", to_lang=\"da\")\n",
    "translation = translator.translate(\"Il film era figo.\")"
   ]
  },
  {
   "cell_type": "code",
   "execution_count": 26,
   "id": "7fcdec1a",
   "metadata": {},
   "outputs": [
    {
     "data": {
      "text/plain": [
       "'Filmen var cool.'"
      ]
     },
     "execution_count": 26,
     "metadata": {},
     "output_type": "execute_result"
    }
   ],
   "source": [
    "translation"
   ]
  },
  {
   "cell_type": "code",
   "execution_count": 27,
   "id": "44e9138d",
   "metadata": {},
   "outputs": [
    {
     "name": "stdout",
     "output_type": "stream",
     "text": [
      "Requirement already satisfied: scrapy in c:\\users\\miche\\anaconda3\\lib\\site-packages (2.5.1)\n",
      "Requirement already satisfied: w3lib>=1.17.0 in c:\\users\\miche\\anaconda3\\lib\\site-packages (from scrapy) (1.22.0)\n",
      "Requirement already satisfied: zope.interface>=4.1.3 in c:\\users\\miche\\anaconda3\\lib\\site-packages (from scrapy) (5.4.0)\n",
      "Requirement already satisfied: PyDispatcher>=2.0.5 in c:\\users\\miche\\anaconda3\\lib\\site-packages (from scrapy) (2.0.5)\n",
      "Requirement already satisfied: Twisted[http2]>=17.9.0 in c:\\users\\miche\\anaconda3\\lib\\site-packages (from scrapy) (21.7.0)\n",
      "Requirement already satisfied: itemadapter>=0.1.0 in c:\\users\\miche\\anaconda3\\lib\\site-packages (from scrapy) (0.4.0)\n",
      "Requirement already satisfied: cryptography>=2.0 in c:\\users\\miche\\anaconda3\\lib\\site-packages (from scrapy) (3.4.8)\n",
      "Requirement already satisfied: service-identity>=16.0.0 in c:\\users\\miche\\anaconda3\\lib\\site-packages (from scrapy) (21.1.0)\n",
      "Requirement already satisfied: h2<4.0,>=3.0 in c:\\users\\miche\\anaconda3\\lib\\site-packages (from scrapy) (3.2.0)\n",
      "Requirement already satisfied: itemloaders>=1.0.1 in c:\\users\\miche\\anaconda3\\lib\\site-packages (from scrapy) (1.0.4)\n",
      "Requirement already satisfied: protego>=0.1.15 in c:\\users\\miche\\anaconda3\\lib\\site-packages (from scrapy) (0.1.16)\n",
      "Requirement already satisfied: queuelib>=1.4.2 in c:\\users\\miche\\anaconda3\\lib\\site-packages (from scrapy) (1.6.2)\n",
      "Requirement already satisfied: parsel>=1.5.0 in c:\\users\\miche\\anaconda3\\lib\\site-packages (from scrapy) (1.6.0)\n",
      "Requirement already satisfied: pyOpenSSL>=16.2.0 in c:\\users\\miche\\anaconda3\\lib\\site-packages (from scrapy) (21.0.0)\n",
      "Requirement already satisfied: lxml>=3.5.0 in c:\\users\\miche\\anaconda3\\lib\\site-packages (from scrapy) (4.6.3)\n",
      "Requirement already satisfied: cssselect>=0.9.1 in c:\\users\\miche\\anaconda3\\lib\\site-packages (from scrapy) (1.1.0)\n",
      "Requirement already satisfied: cffi>=1.12 in c:\\users\\miche\\anaconda3\\lib\\site-packages (from cryptography>=2.0->scrapy) (1.14.6)\n",
      "Requirement already satisfied: pycparser in c:\\users\\miche\\anaconda3\\lib\\site-packages (from cffi>=1.12->cryptography>=2.0->scrapy) (2.20)\n",
      "Requirement already satisfied: hpack<4,>=3.0 in c:\\users\\miche\\anaconda3\\lib\\site-packages (from h2<4.0,>=3.0->scrapy) (3.0.0)\n",
      "Requirement already satisfied: hyperframe<6,>=5.2.0 in c:\\users\\miche\\anaconda3\\lib\\site-packages (from h2<4.0,>=3.0->scrapy) (5.2.0)\n",
      "Requirement already satisfied: jmespath>=0.9.5 in c:\\users\\miche\\anaconda3\\lib\\site-packages (from itemloaders>=1.0.1->scrapy) (0.10.0)\n",
      "Requirement already satisfied: six>=1.6.0 in c:\\users\\miche\\anaconda3\\lib\\site-packages (from parsel>=1.5.0->scrapy) (1.16.0)\n",
      "Requirement already satisfied: attrs>=19.1.0 in c:\\users\\miche\\anaconda3\\lib\\site-packages (from service-identity>=16.0.0->scrapy) (21.2.0)\n",
      "Requirement already satisfied: pyasn1 in c:\\users\\miche\\anaconda3\\lib\\site-packages (from service-identity>=16.0.0->scrapy) (0.4.8)\n",
      "Requirement already satisfied: pyasn1-modules in c:\\users\\miche\\anaconda3\\lib\\site-packages (from service-identity>=16.0.0->scrapy) (0.2.8)\n",
      "Requirement already satisfied: hyperlink>=17.1.1 in c:\\users\\miche\\anaconda3\\lib\\site-packages (from Twisted[http2]>=17.9.0->scrapy) (21.0.0)\n",
      "Requirement already satisfied: Automat>=0.8.0 in c:\\users\\miche\\anaconda3\\lib\\site-packages (from Twisted[http2]>=17.9.0->scrapy) (20.2.0)\n",
      "Requirement already satisfied: twisted-iocpsupport~=1.0.0 in c:\\users\\miche\\anaconda3\\lib\\site-packages (from Twisted[http2]>=17.9.0->scrapy) (1.0.2)\n",
      "Requirement already satisfied: constantly>=15.1 in c:\\users\\miche\\anaconda3\\lib\\site-packages (from Twisted[http2]>=17.9.0->scrapy) (15.1.0)\n",
      "Requirement already satisfied: incremental>=21.3.0 in c:\\users\\miche\\anaconda3\\lib\\site-packages (from Twisted[http2]>=17.9.0->scrapy) (21.3.0)\n",
      "Requirement already satisfied: typing-extensions>=3.6.5 in c:\\users\\miche\\anaconda3\\lib\\site-packages (from Twisted[http2]>=17.9.0->scrapy) (3.10.0.2)\n",
      "Requirement already satisfied: priority<2.0,>=1.1.0 in c:\\users\\miche\\anaconda3\\lib\\site-packages (from Twisted[http2]>=17.9.0->scrapy) (1.3.0)\n",
      "Requirement already satisfied: idna>=2.5 in c:\\users\\miche\\anaconda3\\lib\\site-packages (from hyperlink>=17.1.1->Twisted[http2]>=17.9.0->scrapy) (2.10)\n",
      "Requirement already satisfied: setuptools in c:\\users\\miche\\anaconda3\\lib\\site-packages (from zope.interface>=4.1.3->scrapy) (58.0.4)\n"
     ]
    }
   ],
   "source": [
    "# install scrapy and create a crawler\n",
    "!pip install scrapy"
   ]
  },
  {
   "cell_type": "code",
   "execution_count": 28,
   "id": "056e9b2e",
   "metadata": {},
   "outputs": [
    {
     "name": "stdout",
     "output_type": "stream",
     "text": [
      "New Scrapy project 'first_crawler', using template directory 'C:\\Users\\miche\\anaconda3\\lib\\site-packages\\scrapy\\templates\\project', created in:\n",
      "    C:\\Users\\miche\\Projects\\project_folder\\first_crawler\n",
      "\n",
      "You can start your first spider with:\n",
      "    cd first_crawler\n",
      "    scrapy genspider example example.com\n"
     ]
    }
   ],
   "source": [
    "!scrapy startproject first_crawler # this will create a folder called first_crawler, where all the crawling files are stored"
   ]
  },
  {
   "cell_type": "markdown",
   "id": "504379fa",
   "metadata": {},
   "source": [
    "# Structure of a scrapy crawler\n",
    "\n",
    "Have a look at the directory:\n",
    "inside the folder, we have a file called scrapy.cfg. It is a configuration file. \n",
    "\n",
    "Along with the cfg file, we have another folder (note the same name), which in turn contains:\n",
    "   - middlewares\n",
    "   - pipelines: when you crawl data, you can do preprocessing and cleaning from here.\n",
    "   - settings\n",
    "   - init and more\n",
    "\n",
    "## Creating your first crawler:\n",
    "The important bit is the **spider** folder, that's where you write crawlers, or spiders, as they are called by scrapy.\n",
    "\n",
    "You begin by creating a new python file inside the spider folder, let's name it \"article_spider.py\". This is gonna be our main file when scraping a website.\n",
    "\n",
    "\n",
    "A python spider is comprised of the following parts:\n",
    "1. import scrapy, fundamental to access scraping functions.\n",
    "2. The spider class, find a suitable name for it, like FirstCrawler, or TheGuardianCrawler (if you want to use it to crawl from the guardian)\n",
    "    1. inside the class, we create a variable name, it is the name"
   ]
  },
  {
   "cell_type": "code",
   "execution_count": null,
   "id": "7ced8453",
   "metadata": {},
   "outputs": [],
   "source": []
  }
 ],
 "metadata": {
  "kernelspec": {
   "display_name": "Python 3 (ipykernel)",
   "language": "python",
   "name": "python3"
  },
  "language_info": {
   "codemirror_mode": {
    "name": "ipython",
    "version": 3
   },
   "file_extension": ".py",
   "mimetype": "text/x-python",
   "name": "python",
   "nbconvert_exporter": "python",
   "pygments_lexer": "ipython3",
   "version": "3.9.7"
  }
 },
 "nbformat": 4,
 "nbformat_minor": 5
}
