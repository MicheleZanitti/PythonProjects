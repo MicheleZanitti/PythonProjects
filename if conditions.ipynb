{
 "cells": [
  {
   "cell_type": "code",
   "execution_count": 5,
   "id": "1accfdea",
   "metadata": {},
   "outputs": [
    {
     "name": "stdout",
     "output_type": "stream",
     "text": [
      "3\n"
     ]
    }
   ],
   "source": [
    "cars = ['audi', 'bmw', 'subaru', 'toyota']\n",
    "\n",
    "if \"toyota\" in cars:\n",
    "    print(cars.index(\"toyota\"))\n",
    "    "
   ]
  },
  {
   "cell_type": "code",
   "execution_count": 6,
   "id": "1f19e50c",
   "metadata": {},
   "outputs": [
    {
     "data": {
      "text/plain": [
       "'STRING'"
      ]
     },
     "execution_count": 6,
     "metadata": {},
     "output_type": "execute_result"
    }
   ],
   "source": [
    "\"string\".upper()"
   ]
  },
  {
   "cell_type": "code",
   "execution_count": 7,
   "id": "ceb9a82d",
   "metadata": {},
   "outputs": [
    {
     "data": {
      "text/plain": [
       "'String'"
      ]
     },
     "execution_count": 7,
     "metadata": {},
     "output_type": "execute_result"
    }
   ],
   "source": [
    "\"string\".title()"
   ]
  },
  {
   "cell_type": "code",
   "execution_count": 8,
   "id": "d96e191d",
   "metadata": {},
   "outputs": [
    {
     "name": "stdout",
     "output_type": "stream",
     "text": [
      "11\n",
      "above threshold\n",
      "above threshold\n",
      "1\n",
      "above threshold\n",
      "2\n",
      "3\n"
     ]
    }
   ],
   "source": [
    "nn = [11,23,532,1,5577,2,3]\n",
    "\n",
    "for x in nn:\n",
    "    if x < 20:\n",
    "        print(x)\n",
    "    else:\n",
    "        print(\"above threshold\")\n",
    "    \n"
   ]
  },
  {
   "cell_type": "code",
   "execution_count": 9,
   "id": "07427523",
   "metadata": {},
   "outputs": [
    {
     "name": "stdout",
     "output_type": "stream",
     "text": [
      "11\n",
      "23\n",
      "1064\n",
      "2\n",
      "is an outlier\n",
      "4\n",
      "3\n"
     ]
    }
   ],
   "source": [
    "nn = [11,23,532,1,5577,2,3]\n",
    "\n",
    "for x in nn:\n",
    "    if x>=3 and x<50:\n",
    "        print(x)\n",
    "        \n",
    "    elif x>5000:\n",
    "        print(\"is an outlier\")\n",
    "        \n",
    "    else:\n",
    "        print(x*2)"
   ]
  },
  {
   "cell_type": "code",
   "execution_count": null,
   "id": "b704ea57",
   "metadata": {},
   "outputs": [],
   "source": [
    "person = [\"Jeff\", 40, \"1.1.91\"]\n",
    "\n",
    "dictionary = {\n",
    "    \"label\" : values,\n",
    "    \"label2\" : value2\n",
    "    ...    \n",
    "}"
   ]
  },
  {
   "cell_type": "code",
   "execution_count": 11,
   "id": "25c3848b",
   "metadata": {},
   "outputs": [],
   "source": [
    "person_dict = {\n",
    "    \"name\" : \"Jeff\",\n",
    "    \"age\" : 40,\n",
    "    \"birthdate\" : \"1.1.91\"\n",
    "}"
   ]
  },
  {
   "cell_type": "code",
   "execution_count": 12,
   "id": "afa8b76b",
   "metadata": {},
   "outputs": [
    {
     "data": {
      "text/plain": [
       "{'name': 'jeff', 'age': 40, 'birthdate': '1.1.91'}"
      ]
     },
     "execution_count": 12,
     "metadata": {},
     "output_type": "execute_result"
    }
   ],
   "source": [
    "person_dict"
   ]
  },
  {
   "cell_type": "code",
   "execution_count": 13,
   "id": "1b3fc561",
   "metadata": {},
   "outputs": [
    {
     "data": {
      "text/plain": [
       "40"
      ]
     },
     "execution_count": 13,
     "metadata": {},
     "output_type": "execute_result"
    }
   ],
   "source": [
    "# dictionary\n",
    "\n",
    "person_dict[\"age\"]"
   ]
  },
  {
   "cell_type": "code",
   "execution_count": 15,
   "id": "7244f14a",
   "metadata": {},
   "outputs": [
    {
     "name": "stdout",
     "output_type": "stream",
     "text": [
      "name\n",
      "age\n",
      "birthdate\n"
     ]
    }
   ],
   "source": [
    "# extracting labels\n",
    "for k in person_dict.keys():\n",
    "    print(k)"
   ]
  },
  {
   "cell_type": "code",
   "execution_count": 16,
   "id": "99b3bd25",
   "metadata": {},
   "outputs": [
    {
     "name": "stdout",
     "output_type": "stream",
     "text": [
      "jeff\n",
      "40\n",
      "1.1.91\n"
     ]
    }
   ],
   "source": [
    "# extracting values\n",
    "for k in person_dict.values():\n",
    "    print(k)"
   ]
  },
  {
   "cell_type": "code",
   "execution_count": 17,
   "id": "1eb3ed98",
   "metadata": {},
   "outputs": [
    {
     "name": "stdout",
     "output_type": "stream",
     "text": [
      "('name', 'jeff')\n",
      "('age', 40)\n",
      "('birthdate', '1.1.91')\n"
     ]
    }
   ],
   "source": [
    "# extracting key,value pairs\n",
    "for k in person_dict.items():\n",
    "    print(k) # will return tuples"
   ]
  },
  {
   "cell_type": "code",
   "execution_count": 18,
   "id": "d3183ea2",
   "metadata": {},
   "outputs": [
    {
     "name": "stdout",
     "output_type": "stream",
     "text": [
      "<class 'tuple'>\n",
      "<class 'tuple'>\n",
      "<class 'tuple'>\n"
     ]
    }
   ],
   "source": [
    "for k in person_dict.items():\n",
    "    print(type(k))"
   ]
  },
  {
   "cell_type": "code",
   "execution_count": 19,
   "id": "f64e612f",
   "metadata": {},
   "outputs": [],
   "source": [
    "person_dict1 = {\n",
    "    \"name\" : \"Jeff\",\n",
    "    \"age\" : 40,\n",
    "    \"birthdate\" : \"1.1.91\"\n",
    "}\n",
    "\n",
    "person_dict2 = {\n",
    "    \"name\" : \"Ada\",\n",
    "    \"age\" : 30,\n",
    "    \"birthdate\" : \"1.1.90\"\n",
    "}\n",
    "\n",
    "person_dict3 = {\n",
    "    \"name\" : \"Orson\",\n",
    "    \"age\" : 40,\n",
    "    \"birthdate\" : \"1.1.81\"\n",
    "}\n",
    "\n",
    "\n",
    "persons = [person_dict1, person_dict2, \n",
    "           person_dict3]"
   ]
  },
  {
   "cell_type": "code",
   "execution_count": 26,
   "id": "51bd463f",
   "metadata": {},
   "outputs": [
    {
     "name": "stdout",
     "output_type": "stream",
     "text": [
      "Jeff, age: 40\n",
      "Ada, age: 30\n",
      "Orson, age: 40\n"
     ]
    }
   ],
   "source": [
    "for person in persons:\n",
    "    print(person[\"name\"]+\", age: \"+str(person[\"age\"]))"
   ]
  },
  {
   "cell_type": "code",
   "execution_count": 29,
   "id": "d437de0b",
   "metadata": {},
   "outputs": [
    {
     "data": {
      "text/plain": [
       "str"
      ]
     },
     "execution_count": 29,
     "metadata": {},
     "output_type": "execute_result"
    }
   ],
   "source": [
    "type(str(44))"
   ]
  },
  {
   "cell_type": "code",
   "execution_count": 30,
   "id": "2bca51c4",
   "metadata": {},
   "outputs": [
    {
     "data": {
      "text/plain": [
       "22"
      ]
     },
     "execution_count": 30,
     "metadata": {},
     "output_type": "execute_result"
    }
   ],
   "source": [
    "def sum_three(x,y,z):\n",
    "    \n",
    "    result = x+y+z\n",
    "    \n",
    "    return result\n",
    "\n",
    "sum_three(4,7,11)"
   ]
  },
  {
   "cell_type": "code",
   "execution_count": 31,
   "id": "900a55ba",
   "metadata": {},
   "outputs": [
    {
     "data": {
      "text/plain": [
       "False"
      ]
     },
     "execution_count": 31,
     "metadata": {},
     "output_type": "execute_result"
    }
   ],
   "source": [
    "def maximum(a,b):\n",
    "    result = a>=b\n",
    "    \n",
    "    return result\n",
    "\n",
    "maximum(4,7)"
   ]
  },
  {
   "cell_type": "code",
   "execution_count": 32,
   "id": "b8e727d2",
   "metadata": {},
   "outputs": [
    {
     "data": {
      "text/plain": [
       "7"
      ]
     },
     "execution_count": 32,
     "metadata": {},
     "output_type": "execute_result"
    }
   ],
   "source": [
    "def maximum(a,b):\n",
    "    if a>=b:\n",
    "        return a\n",
    "    else:\n",
    "        return b\n",
    "    \n",
    "maximum(4,7)"
   ]
  },
  {
   "cell_type": "code",
   "execution_count": 34,
   "id": "2421cd0c",
   "metadata": {},
   "outputs": [
    {
     "name": "stdout",
     "output_type": "stream",
     "text": [
      "4\n",
      "11\n",
      "12\n",
      "14\n"
     ]
    },
    {
     "data": {
      "text/plain": [
       "14"
      ]
     },
     "execution_count": 34,
     "metadata": {},
     "output_type": "execute_result"
    }
   ],
   "source": [
    "# sum of elements in a list of integers\n",
    "\n",
    "def sum_list(l):\n",
    "    # using a for loop (go through all the elements)\n",
    "    \n",
    "    result = 0\n",
    "    for number in l:\n",
    "        result = result + number\n",
    "        print(result)\n",
    "    \n",
    "    return result\n",
    "\n",
    "l = [4,7,1,2]\n",
    "\n",
    "sum_list(l)"
   ]
  },
  {
   "cell_type": "code",
   "execution_count": 41,
   "id": "781d323a",
   "metadata": {},
   "outputs": [
    {
     "name": "stdout",
     "output_type": "stream",
     "text": [
      "current grade: \t4,\t passing so far: 1\n",
      "current grade: \t7,\t passing so far: 2\n",
      "current grade: \t10,\t passing so far: 3\n",
      "current grade: \t-3,\t passing so far: 3\n",
      "current grade: \t0,\t passing so far: 3\n",
      "current grade: \t2,\t passing so far: 4\n",
      "current grade: \t-3,\t passing so far: 4\n",
      "current grade: \t7,\t passing so far: 5\n",
      "current grade: \t12,\t passing so far: 6\n"
     ]
    },
    {
     "data": {
      "text/plain": [
       "6"
      ]
     },
     "execution_count": 41,
     "metadata": {},
     "output_type": "execute_result"
    }
   ],
   "source": [
    "# count passing grades in a list\n",
    "\n",
    "def count_passing(grades):\n",
    "    # use for and if \n",
    "    passing = 0\n",
    "    \n",
    "    for grade in grades:\n",
    "        \n",
    "        if grade >= 2:\n",
    "            passing = passing +1\n",
    "        print(\"current grade: \\t\"+str(grade)+\n",
    "              \",\\t passing so far: \"+str(passing))\n",
    "    \n",
    "    return passing\n",
    "\n",
    "\n",
    "gradelist = [4, 7, 10, -3, 0, 2, -3, 7, 12]\n",
    "\n",
    "count_passing(gradelist)"
   ]
  },
  {
   "cell_type": "code",
   "execution_count": null,
   "id": "8cf92468",
   "metadata": {},
   "outputs": [],
   "source": []
  }
 ],
 "metadata": {
  "kernelspec": {
   "display_name": "Python 3 (ipykernel)",
   "language": "python",
   "name": "python3"
  },
  "language_info": {
   "codemirror_mode": {
    "name": "ipython",
    "version": 3
   },
   "file_extension": ".py",
   "mimetype": "text/x-python",
   "name": "python",
   "nbconvert_exporter": "python",
   "pygments_lexer": "ipython3",
   "version": "3.9.7"
  }
 },
 "nbformat": 4,
 "nbformat_minor": 5
}
